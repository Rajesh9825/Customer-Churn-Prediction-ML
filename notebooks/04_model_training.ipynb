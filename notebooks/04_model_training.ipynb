{
 "cells": [
  {
   "cell_type": "code",
   "execution_count": 23,
   "metadata": {},
   "outputs": [],
   "source": [
    "import pandas as pd\n",
    "from src.utils import load_data\n",
    "from sklearn.model_selection import train_test_split\n",
    "from sklearn.linear_model import LogisticRegression\n",
    "from sklearn.ensemble import RandomForestClassifier,GradientBoostingClassifier,AdaBoostClassifier\n",
    "from xgboost import XGBClassifier\n",
    "from sklearn.metrics import accuracy_score,precision_score,roc_auc_score,confusion_matrix,f1_score,classification_report,recall_score\n"
   ]
  },
  {
   "cell_type": "code",
   "execution_count": 4,
   "metadata": {},
   "outputs": [],
   "source": [
    "df = load_data(r'D:\\ML_Projects\\Resume Project\\Customer-Churn-Prediction\\notebooks\\saved_data\\encoded_data.csv')"
   ]
  },
  {
   "cell_type": "code",
   "execution_count": 5,
   "metadata": {},
   "outputs": [
    {
     "data": {
      "text/html": [
       "<div>\n",
       "<style scoped>\n",
       "    .dataframe tbody tr th:only-of-type {\n",
       "        vertical-align: middle;\n",
       "    }\n",
       "\n",
       "    .dataframe tbody tr th {\n",
       "        vertical-align: top;\n",
       "    }\n",
       "\n",
       "    .dataframe thead th {\n",
       "        text-align: right;\n",
       "    }\n",
       "</style>\n",
       "<table border=\"1\" class=\"dataframe\">\n",
       "  <thead>\n",
       "    <tr style=\"text-align: right;\">\n",
       "      <th></th>\n",
       "      <th>CreditScore</th>\n",
       "      <th>Age</th>\n",
       "      <th>Tenure</th>\n",
       "      <th>Balance</th>\n",
       "      <th>NumOfProducts</th>\n",
       "      <th>HasCrCard</th>\n",
       "      <th>IsActiveMember</th>\n",
       "      <th>EstimatedSalary</th>\n",
       "      <th>Exited</th>\n",
       "      <th>Geography_France</th>\n",
       "      <th>Geography_Germany</th>\n",
       "      <th>Geography_Spain</th>\n",
       "      <th>Gender_Female</th>\n",
       "      <th>Gender_Male</th>\n",
       "    </tr>\n",
       "  </thead>\n",
       "  <tbody>\n",
       "    <tr>\n",
       "      <th>0</th>\n",
       "      <td>619</td>\n",
       "      <td>42</td>\n",
       "      <td>2</td>\n",
       "      <td>0</td>\n",
       "      <td>1</td>\n",
       "      <td>1</td>\n",
       "      <td>1</td>\n",
       "      <td>101348</td>\n",
       "      <td>1</td>\n",
       "      <td>1</td>\n",
       "      <td>0</td>\n",
       "      <td>0</td>\n",
       "      <td>1</td>\n",
       "      <td>0</td>\n",
       "    </tr>\n",
       "    <tr>\n",
       "      <th>1</th>\n",
       "      <td>608</td>\n",
       "      <td>41</td>\n",
       "      <td>1</td>\n",
       "      <td>83807</td>\n",
       "      <td>1</td>\n",
       "      <td>0</td>\n",
       "      <td>1</td>\n",
       "      <td>112542</td>\n",
       "      <td>0</td>\n",
       "      <td>0</td>\n",
       "      <td>0</td>\n",
       "      <td>1</td>\n",
       "      <td>1</td>\n",
       "      <td>0</td>\n",
       "    </tr>\n",
       "    <tr>\n",
       "      <th>2</th>\n",
       "      <td>502</td>\n",
       "      <td>42</td>\n",
       "      <td>8</td>\n",
       "      <td>159660</td>\n",
       "      <td>3</td>\n",
       "      <td>1</td>\n",
       "      <td>0</td>\n",
       "      <td>113931</td>\n",
       "      <td>1</td>\n",
       "      <td>1</td>\n",
       "      <td>0</td>\n",
       "      <td>0</td>\n",
       "      <td>1</td>\n",
       "      <td>0</td>\n",
       "    </tr>\n",
       "    <tr>\n",
       "      <th>3</th>\n",
       "      <td>699</td>\n",
       "      <td>39</td>\n",
       "      <td>1</td>\n",
       "      <td>0</td>\n",
       "      <td>2</td>\n",
       "      <td>0</td>\n",
       "      <td>0</td>\n",
       "      <td>93826</td>\n",
       "      <td>0</td>\n",
       "      <td>1</td>\n",
       "      <td>0</td>\n",
       "      <td>0</td>\n",
       "      <td>1</td>\n",
       "      <td>0</td>\n",
       "    </tr>\n",
       "    <tr>\n",
       "      <th>4</th>\n",
       "      <td>850</td>\n",
       "      <td>43</td>\n",
       "      <td>2</td>\n",
       "      <td>125510</td>\n",
       "      <td>1</td>\n",
       "      <td>1</td>\n",
       "      <td>1</td>\n",
       "      <td>79084</td>\n",
       "      <td>0</td>\n",
       "      <td>0</td>\n",
       "      <td>0</td>\n",
       "      <td>1</td>\n",
       "      <td>1</td>\n",
       "      <td>0</td>\n",
       "    </tr>\n",
       "  </tbody>\n",
       "</table>\n",
       "</div>"
      ],
      "text/plain": [
       "   CreditScore  Age  Tenure  Balance  NumOfProducts  HasCrCard  \\\n",
       "0          619   42       2        0              1          1   \n",
       "1          608   41       1    83807              1          0   \n",
       "2          502   42       8   159660              3          1   \n",
       "3          699   39       1        0              2          0   \n",
       "4          850   43       2   125510              1          1   \n",
       "\n",
       "   IsActiveMember  EstimatedSalary  Exited  Geography_France  \\\n",
       "0               1           101348       1                 1   \n",
       "1               1           112542       0                 0   \n",
       "2               0           113931       1                 1   \n",
       "3               0            93826       0                 1   \n",
       "4               1            79084       0                 0   \n",
       "\n",
       "   Geography_Germany  Geography_Spain  Gender_Female  Gender_Male  \n",
       "0                  0                0              1            0  \n",
       "1                  0                1              1            0  \n",
       "2                  0                0              1            0  \n",
       "3                  0                0              1            0  \n",
       "4                  0                1              1            0  "
      ]
     },
     "execution_count": 5,
     "metadata": {},
     "output_type": "execute_result"
    }
   ],
   "source": [
    "df.head()"
   ]
  },
  {
   "cell_type": "code",
   "execution_count": 6,
   "metadata": {},
   "outputs": [],
   "source": [
    "X = df.drop('Exited',axis=1)\n",
    "y = df['Exited']"
   ]
  },
  {
   "cell_type": "code",
   "execution_count": 7,
   "metadata": {},
   "outputs": [
    {
     "data": {
      "text/plain": [
       "0       1\n",
       "1       0\n",
       "2       1\n",
       "3       0\n",
       "4       0\n",
       "       ..\n",
       "9995    0\n",
       "9996    0\n",
       "9997    1\n",
       "9998    1\n",
       "9999    0\n",
       "Name: Exited, Length: 10000, dtype: int64"
      ]
     },
     "execution_count": 7,
     "metadata": {},
     "output_type": "execute_result"
    }
   ],
   "source": [
    "y"
   ]
  },
  {
   "cell_type": "code",
   "execution_count": 8,
   "metadata": {},
   "outputs": [],
   "source": [
    "# Split the data into training and testing sets\n",
    "X_train,X_test,y_train,y_test = train_test_split(X,y,test_size=0.2,random_state=42)\n"
   ]
  },
  {
   "cell_type": "code",
   "execution_count": 9,
   "metadata": {},
   "outputs": [
    {
     "data": {
      "text/plain": [
       "((8000, 13), (2000, 13))"
      ]
     },
     "execution_count": 9,
     "metadata": {},
     "output_type": "execute_result"
    }
   ],
   "source": [
    "X_train.shape,X_test.shape"
   ]
  },
  {
   "cell_type": "markdown",
   "metadata": {},
   "source": [
    "## Without Data Imabalance"
   ]
  },
  {
   "cell_type": "markdown",
   "metadata": {},
   "source": [
    "Logistic regression (baseline model)"
   ]
  },
  {
   "cell_type": "code",
   "execution_count": 17,
   "metadata": {},
   "outputs": [
    {
     "name": "stderr",
     "output_type": "stream",
     "text": [
      "d:\\ML_Projects\\Resume Project\\Customer-Churn-Prediction\\venv\\Lib\\site-packages\\sklearn\\linear_model\\_logistic.py:465: ConvergenceWarning: lbfgs failed to converge (status=1):\n",
      "STOP: TOTAL NO. OF ITERATIONS REACHED LIMIT.\n",
      "\n",
      "Increase the number of iterations (max_iter) or scale the data as shown in:\n",
      "    https://scikit-learn.org/stable/modules/preprocessing.html\n",
      "Please also refer to the documentation for alternative solver options:\n",
      "    https://scikit-learn.org/stable/modules/linear_model.html#logistic-regression\n",
      "  n_iter_i = _check_optimize_result(\n"
     ]
    }
   ],
   "source": [
    "# logistic Regression\n",
    "lr = LogisticRegression()\n",
    "lr.fit(X_train,y_train)\n",
    "y_pred_train = lr.predict(X_train)\n",
    "y_pred_test = lr.predict(X_test)\n"
   ]
  },
  {
   "cell_type": "code",
   "execution_count": 18,
   "metadata": {},
   "outputs": [
    {
     "name": "stdout",
     "output_type": "stream",
     "text": [
      "Accuracy Score:  0.790125\n",
      "Precision Score:  0.43636363636363634\n",
      "Recall Score:  0.43636363636363634\n",
      "F1 Score:  0.7254657463283137\n",
      "roc_auc Score:  0.5243031470924651\n",
      "confusion matrix: \n",
      " [[6201  155]\n",
      " [1524  120]]\n",
      "====================================================================================================\n",
      "Accuracy Score:  0.8\n",
      "Precision Score:  0.4492753623188406\n",
      "Recall Score:  0.4492753623188406\n",
      "F1 Score:  0.7390278460939852\n",
      "roc_auc Score:  0.5276169303825028\n",
      "confusion matrix: \n",
      " [[1569   38]\n",
      " [ 362   31]]\n"
     ]
    }
   ],
   "source": [
    "print(\"Accuracy Score: \",accuracy_score(y_train,y_pred_train))\n",
    "print(\"Precision Score: \",precision_score(y_train,y_pred_train))\n",
    "print(\"Recall Score: \",precision_score(y_train,y_pred_train))\n",
    "print(\"F1 Score: \",f1_score(y_train,y_pred_train,average='weighted'))\n",
    "print(\"roc_auc Score: \",roc_auc_score(y_train,y_pred_train))\n",
    "print(\"confusion matrix: \\n\",confusion_matrix(y_train,y_pred_train))\n",
    "print(\"==\"*50)\n",
    "print(\"Accuracy Score: \",accuracy_score(y_test,y_pred_test))\n",
    "print(\"Precision Score: \",precision_score(y_test,y_pred_test))\n",
    "print(\"Recall Score: \",precision_score(y_test,y_pred_test))\n",
    "print(\"F1 Score: \",f1_score(y_test,y_pred_test,average='weighted'))\n",
    "print(\"roc_auc Score: \",roc_auc_score(y_test,y_pred_test))\n",
    "print(\"confusion matrix: \\n\",confusion_matrix(y_test,y_pred_test))\n",
    "\n"
   ]
  },
  {
   "cell_type": "markdown",
   "metadata": {},
   "source": [
    "Random forest Classifier"
   ]
  },
  {
   "cell_type": "code",
   "execution_count": 19,
   "metadata": {},
   "outputs": [],
   "source": [
    "# Random Forest\n",
    "RF = RandomForestClassifier()\n",
    "RF.fit(X_train,y_train)\n",
    "y_pred_train = RF.predict(X_train)\n",
    "y_pred_test = RF.predict(X_test)\n"
   ]
  },
  {
   "cell_type": "code",
   "execution_count": 20,
   "metadata": {},
   "outputs": [
    {
     "name": "stdout",
     "output_type": "stream",
     "text": [
      "Accuracy Score:  0.999875\n",
      "Precision Score:  1.0\n",
      "Recall Score:  1.0\n",
      "F1 Score:  0.9998749859019288\n",
      "roc_auc Score:  0.9996958637469586\n",
      "confusion matrix: \n",
      " [[6356    0]\n",
      " [   1 1643]]\n",
      "====================================================================================================\n",
      "Accuracy Score:  0.867\n",
      "Precision Score:  0.7634854771784232\n",
      "Recall Score:  0.7634854771784232\n",
      "F1 Score:  0.8540597532197086\n",
      "roc_auc Score:  0.7163617823422019\n",
      "confusion matrix: \n",
      " [[1550   57]\n",
      " [ 209  184]]\n"
     ]
    }
   ],
   "source": [
    "print(\"Accuracy Score: \",accuracy_score(y_train,y_pred_train))\n",
    "print(\"Precision Score: \",precision_score(y_train,y_pred_train))\n",
    "print(\"Recall Score: \",precision_score(y_train,y_pred_train))\n",
    "print(\"F1 Score: \",f1_score(y_train,y_pred_train,average='weighted'))\n",
    "print(\"roc_auc Score: \",roc_auc_score(y_train,y_pred_train))\n",
    "print(\"confusion matrix: \\n\",confusion_matrix(y_train,y_pred_train))\n",
    "print(\"==\"*50)\n",
    "print(\"Accuracy Score: \",accuracy_score(y_test,y_pred_test))\n",
    "print(\"Precision Score: \",precision_score(y_test,y_pred_test))\n",
    "print(\"Recall Score: \",precision_score(y_test,y_pred_test))\n",
    "print(\"F1 Score: \",f1_score(y_test,y_pred_test,average='weighted'))\n",
    "print(\"roc_auc Score: \",roc_auc_score(y_test,y_pred_test))\n",
    "print(\"confusion matrix: \\n\",confusion_matrix(y_test,y_pred_test))\n",
    "\n"
   ]
  },
  {
   "cell_type": "markdown",
   "metadata": {},
   "source": [
    "Gradient Boosting"
   ]
  },
  {
   "cell_type": "code",
   "execution_count": null,
   "metadata": {},
   "outputs": [
    {
     "name": "stdout",
     "output_type": "stream",
     "text": [
      "Accuracy Score:  0.873375\n",
      "Precision Score:  0.8133068520357497\n",
      "Recall Score:  0.8133068520357497\n",
      "F1 Score:  0.861183054074043\n",
      "roc_auc Score:  0.7342984156587488\n",
      "confusion matrix: \n",
      " [[6168  188]\n",
      " [ 825  819]]\n",
      "====================================================================================================\n",
      "Accuracy Score:  0.8635\n",
      "Precision Score:  0.7380952380952381\n",
      "Recall Score:  0.7380952380952381\n",
      "F1 Score:  0.851448563407618\n",
      "roc_auc Score:  0.7161060626932743\n",
      "confusion matrix: \n",
      " [[1541   66]\n",
      " [ 207  186]]\n"
     ]
    }
   ],
   "source": [
    "# Gradient Boosting\n",
    "GB = GradientBoostingClassifier()\n",
    "GB.fit(X_train,y_train)\n",
    "y_pred_train = GB.predict(X_train)\n",
    "y_pred_test = GB.predict(X_test)\n",
    "\n",
    "print(\"Accuracy Score: \",accuracy_score(y_train,y_pred_train))\n",
    "print(\"Precision Score: \",precision_score(y_train,y_pred_train))\n",
    "print(\"Recall Score: \",precision_score(y_train,y_pred_train))\n",
    "print(\"F1 Score: \",f1_score(y_train,y_pred_train,average='weighted'))\n",
    "print(\"roc_auc Score: \",roc_auc_score(y_train,y_pred_train))\n",
    "print(\"confusion matrix: \\n\",confusion_matrix(y_train,y_pred_train))\n",
    "print(\"==\"*50)\n",
    "print(\"Accuracy Score: \",accuracy_score(y_test,y_pred_test))\n",
    "print(\"Precision Score: \",precision_score(y_test,y_pred_test))\n",
    "print(\"Recall Score: \",precision_score(y_test,y_pred_test))\n",
    "print(\"F1 Score: \",f1_score(y_test,y_pred_test,average='weighted'))\n",
    "print(\"roc_auc Score: \",roc_auc_score(y_test,y_pred_test))\n",
    "print(\"confusion matrix: \\n\",confusion_matrix(y_test,y_pred_test))\n",
    "\n"
   ]
  },
  {
   "cell_type": "markdown",
   "metadata": {},
   "source": [
    "Adaboost"
   ]
  },
  {
   "cell_type": "code",
   "execution_count": 24,
   "metadata": {},
   "outputs": [
    {
     "name": "stdout",
     "output_type": "stream",
     "text": [
      "Accuracy Score:  0.856625\n",
      "Precision Score:  0.7596656217345873\n",
      "Recall Score:  0.7596656217345873\n",
      "F1 Score:  0.8413658354576031\n",
      "roc_auc Score:  0.7030139156212342\n",
      "confusion matrix: \n",
      " [[6126  230]\n",
      " [ 917  727]]\n",
      "====================================================================================================\n",
      "Accuracy Score:  0.8585\n",
      "Precision Score:  0.7254098360655737\n",
      "Recall Score:  0.7254098360655737\n",
      "F1 Score:  0.8450855687365181\n",
      "roc_auc Score:  0.7043445422459943\n",
      "confusion matrix: \n",
      " [[1540   67]\n",
      " [ 216  177]]\n"
     ]
    }
   ],
   "source": [
    "# Gradient Boosting\n",
    "AB = AdaBoostClassifier()\n",
    "AB.fit(X_train,y_train)\n",
    "y_pred_train = AB.predict(X_train)\n",
    "y_pred_test = AB.predict(X_test)\n",
    "\n",
    "print(\"Accuracy Score: \",accuracy_score(y_train,y_pred_train))\n",
    "print(\"Precision Score: \",precision_score(y_train,y_pred_train))\n",
    "print(\"Recall Score: \",precision_score(y_train,y_pred_train))\n",
    "print(\"F1 Score: \",f1_score(y_train,y_pred_train,average='weighted'))\n",
    "print(\"roc_auc Score: \",roc_auc_score(y_train,y_pred_train))\n",
    "print(\"confusion matrix: \\n\",confusion_matrix(y_train,y_pred_train))\n",
    "print(\"==\"*50)\n",
    "print(\"Accuracy Score: \",accuracy_score(y_test,y_pred_test))\n",
    "print(\"Precision Score: \",precision_score(y_test,y_pred_test))\n",
    "print(\"Recall Score: \",precision_score(y_test,y_pred_test))\n",
    "print(\"F1 Score: \",f1_score(y_test,y_pred_test,average='weighted'))\n",
    "print(\"roc_auc Score: \",roc_auc_score(y_test,y_pred_test))\n",
    "print(\"confusion matrix: \\n\",confusion_matrix(y_test,y_pred_test))\n",
    "\n"
   ]
  },
  {
   "cell_type": "markdown",
   "metadata": {},
   "source": [
    "XGBoost"
   ]
  },
  {
   "cell_type": "code",
   "execution_count": 25,
   "metadata": {},
   "outputs": [
    {
     "name": "stdout",
     "output_type": "stream",
     "text": [
      "Accuracy Score:  0.958625\n",
      "Precision Score:  0.9706093189964158\n",
      "Recall Score:  0.9706093189964158\n",
      "F1 Score:  0.9573274103577343\n",
      "roc_auc Score:  0.9085751876878602\n",
      "confusion matrix: \n",
      " [[6315   41]\n",
      " [ 290 1354]]\n",
      "====================================================================================================\n",
      "Accuracy Score:  0.86\n",
      "Precision Score:  0.6902356902356902\n",
      "Recall Score:  0.6902356902356902\n",
      "F1 Score:  0.8522910810455799\n",
      "roc_auc Score:  0.7321894827179436\n",
      "confusion matrix: \n",
      " [[1515   92]\n",
      " [ 188  205]]\n"
     ]
    }
   ],
   "source": [
    "# Gradient Boosting\n",
    "xgb = XGBClassifier()\n",
    "xgb.fit(X_train,y_train)\n",
    "y_pred_train = xgb.predict(X_train)\n",
    "y_pred_test = xgb.predict(X_test)\n",
    "\n",
    "print(\"Accuracy Score: \",accuracy_score(y_train,y_pred_train))\n",
    "print(\"Precision Score: \",precision_score(y_train,y_pred_train))\n",
    "print(\"Recall Score: \",precision_score(y_train,y_pred_train))\n",
    "print(\"F1 Score: \",f1_score(y_train,y_pred_train,average='weighted'))\n",
    "print(\"roc_auc Score: \",roc_auc_score(y_train,y_pred_train))\n",
    "print(\"confusion matrix: \\n\",confusion_matrix(y_train,y_pred_train))\n",
    "print(\"==\"*50)\n",
    "print(\"Accuracy Score: \",accuracy_score(y_test,y_pred_test))\n",
    "print(\"Precision Score: \",precision_score(y_test,y_pred_test))\n",
    "print(\"Recall Score: \",precision_score(y_test,y_pred_test))\n",
    "print(\"F1 Score: \",f1_score(y_test,y_pred_test,average='weighted'))\n",
    "print(\"roc_auc Score: \",roc_auc_score(y_test,y_pred_test))\n",
    "print(\"confusion matrix: \\n\",confusion_matrix(y_test,y_pred_test))\n",
    "\n"
   ]
  },
  {
   "cell_type": "markdown",
   "metadata": {},
   "source": [
    "SMote"
   ]
  },
  {
   "cell_type": "code",
   "execution_count": 26,
   "metadata": {},
   "outputs": [],
   "source": [
    "from imblearn.over_sampling import SMOTE\n",
    "smote = SMOTE(random_state=42)\n",
    "            \n",
    "X_train_sampled,y_train_sampled = smote.fit_resample(X_train,y_train)"
   ]
  },
  {
   "cell_type": "code",
   "execution_count": 28,
   "metadata": {},
   "outputs": [
    {
     "data": {
      "text/plain": [
       "((12712, 13), (12712,))"
      ]
     },
     "execution_count": 28,
     "metadata": {},
     "output_type": "execute_result"
    }
   ],
   "source": [
    "X_train_sampled.shape,y_train_sampled.shape"
   ]
  },
  {
   "cell_type": "code",
   "execution_count": 35,
   "metadata": {},
   "outputs": [
    {
     "name": "stdout",
     "output_type": "stream",
     "text": [
      "Accuracy Score:  0.6843140339836375\n",
      "Precision Score:  0.6811504561620535\n",
      "Recall Score:  0.6811504561620535\n",
      "F1 Score:  0.6842899622937796\n",
      "roc_auc Score:  0.6843140339836375\n",
      "confusion matrix: \n",
      " [[4294 2062]\n",
      " [1951 4405]]\n",
      "====================================================================================================\n",
      "Accuracy Score:  0.657\n",
      "Precision Score:  0.3138500635324015\n",
      "Recall Score:  0.3138500635324015\n",
      "F1 Score:  0.6903022118043034\n",
      "roc_auc Score:  0.6462344292068258\n",
      "confusion matrix: \n",
      " [[1067  540]\n",
      " [ 146  247]]\n"
     ]
    },
    {
     "name": "stderr",
     "output_type": "stream",
     "text": [
      "d:\\ML_Projects\\Resume Project\\Customer-Churn-Prediction\\venv\\Lib\\site-packages\\sklearn\\linear_model\\_logistic.py:465: ConvergenceWarning: lbfgs failed to converge (status=1):\n",
      "STOP: TOTAL NO. OF ITERATIONS REACHED LIMIT.\n",
      "\n",
      "Increase the number of iterations (max_iter) or scale the data as shown in:\n",
      "    https://scikit-learn.org/stable/modules/preprocessing.html\n",
      "Please also refer to the documentation for alternative solver options:\n",
      "    https://scikit-learn.org/stable/modules/linear_model.html#logistic-regression\n",
      "  n_iter_i = _check_optimize_result(\n"
     ]
    }
   ],
   "source": [
    "# Logistic \n",
    "lr = LogisticRegression()\n",
    "lr.fit(X_train_sampled,y_train_sampled)\n",
    "y_pred_train = lr.predict(X_train_sampled)\n",
    "y_pred_test = lr.predict(X_test)\n",
    "\n",
    "print(\"Accuracy Score: \",accuracy_score(y_train_sampled,y_pred_train))\n",
    "print(\"Precision Score: \",precision_score(y_train_sampled,y_pred_train))\n",
    "print(\"Recall Score: \",precision_score(y_train_sampled,y_pred_train))\n",
    "print(\"F1 Score: \",f1_score(y_train_sampled,y_pred_train,average='weighted'))\n",
    "print(\"roc_auc Score: \",roc_auc_score(y_train_sampled,y_pred_train))\n",
    "print(\"confusion matrix: \\n\",confusion_matrix(y_train_sampled,y_pred_train))\n",
    "print(\"==\"*50)\n",
    "print(\"Accuracy Score: \",accuracy_score(y_test,y_pred_test))\n",
    "print(\"Precision Score: \",precision_score(y_test,y_pred_test))\n",
    "print(\"Recall Score: \",precision_score(y_test,y_pred_test))\n",
    "print(\"F1 Score: \",f1_score(y_test,y_pred_test,average='weighted'))\n",
    "print(\"roc_auc Score: \",roc_auc_score(y_test,y_pred_test))\n",
    "print(\"confusion matrix: \\n\",confusion_matrix(y_test,y_pred_test))\n",
    "\n"
   ]
  },
  {
   "cell_type": "code",
   "execution_count": 32,
   "metadata": {},
   "outputs": [
    {
     "name": "stdout",
     "output_type": "stream",
     "text": [
      "Accuracy Score:  1.0\n",
      "Precision Score:  1.0\n",
      "Recall Score:  1.0\n",
      "F1 Score:  1.0\n",
      "roc_auc Score:  1.0\n",
      "confusion matrix: \n",
      " [[6356    0]\n",
      " [   0 6356]]\n",
      "====================================================================================================\n",
      "Accuracy Score:  0.8565\n",
      "Precision Score:  0.6558823529411765\n",
      "Recall Score:  0.6558823529411765\n",
      "F1 Score:  0.8524760620383837\n",
      "roc_auc Score:  0.7473117768794603\n",
      "confusion matrix: \n",
      " [[1490  117]\n",
      " [ 170  223]]\n"
     ]
    }
   ],
   "source": [
    "# Random Forest\n",
    "RF = RandomForestClassifier()\n",
    "RF.fit(X_train_sampled,y_train_sampled)\n",
    "y_pred_train = RF.predict(X_train_sampled)\n",
    "y_pred_test = RF.predict(X_test)\n",
    "\n",
    "print(\"Accuracy Score: \",accuracy_score(y_train_sampled,y_pred_train))\n",
    "print(\"Precision Score: \",precision_score(y_train_sampled,y_pred_train))\n",
    "print(\"Recall Score: \",precision_score(y_train_sampled,y_pred_train))\n",
    "print(\"F1 Score: \",f1_score(y_train_sampled,y_pred_train,average='weighted'))\n",
    "print(\"roc_auc Score: \",roc_auc_score(y_train_sampled,y_pred_train))\n",
    "print(\"confusion matrix: \\n\",confusion_matrix(y_train_sampled,y_pred_train))\n",
    "print(\"==\"*50)\n",
    "print(\"Accuracy Score: \",accuracy_score(y_test,y_pred_test))\n",
    "print(\"Precision Score: \",precision_score(y_test,y_pred_test))\n",
    "print(\"Recall Score: \",precision_score(y_test,y_pred_test))\n",
    "print(\"F1 Score: \",f1_score(y_test,y_pred_test,average='weighted'))\n",
    "print(\"roc_auc Score: \",roc_auc_score(y_test,y_pred_test))\n",
    "print(\"confusion matrix: \\n\",confusion_matrix(y_test,y_pred_test))\n",
    "\n"
   ]
  },
  {
   "cell_type": "code",
   "execution_count": 33,
   "metadata": {},
   "outputs": [
    {
     "name": "stdout",
     "output_type": "stream",
     "text": [
      "Accuracy Score:  0.8855412208936438\n",
      "Precision Score:  0.9155502798032898\n",
      "Recall Score:  0.9155502798032898\n",
      "F1 Score:  0.8853917993230851\n",
      "roc_auc Score:  0.8855412208936438\n",
      "confusion matrix: \n",
      " [[5858  498]\n",
      " [ 957 5399]]\n",
      "====================================================================================================\n",
      "Accuracy Score:  0.855\n",
      "Precision Score:  0.6403269754768393\n",
      "Recall Score:  0.6403269754768393\n",
      "F1 Score:  0.8531015269655622\n",
      "roc_auc Score:  0.757911870933622\n",
      "confusion matrix: \n",
      " [[1475  132]\n",
      " [ 158  235]]\n"
     ]
    }
   ],
   "source": [
    "# Logistic \n",
    "GB = GradientBoostingClassifier()\n",
    "GB.fit(X_train_sampled,y_train_sampled)\n",
    "y_pred_train = GB.predict(X_train_sampled)\n",
    "y_pred_test = GB.predict(X_test)\n",
    "\n",
    "print(\"Accuracy Score: \",accuracy_score(y_train_sampled,y_pred_train))\n",
    "print(\"Precision Score: \",precision_score(y_train_sampled,y_pred_train))\n",
    "print(\"Recall Score: \",precision_score(y_train_sampled,y_pred_train))\n",
    "print(\"F1 Score: \",f1_score(y_train_sampled,y_pred_train,average='weighted'))\n",
    "print(\"roc_auc Score: \",roc_auc_score(y_train_sampled,y_pred_train))\n",
    "print(\"confusion matrix: \\n\",confusion_matrix(y_train_sampled,y_pred_train))\n",
    "print(\"==\"*50)\n",
    "print(\"Accuracy Score: \",accuracy_score(y_test,y_pred_test))\n",
    "print(\"Precision Score: \",precision_score(y_test,y_pred_test))\n",
    "print(\"Recall Score: \",precision_score(y_test,y_pred_test))\n",
    "print(\"F1 Score: \",f1_score(y_test,y_pred_test,average='weighted'))\n",
    "print(\"roc_auc Score: \",roc_auc_score(y_test,y_pred_test))\n",
    "print(\"confusion matrix: \\n\",confusion_matrix(y_test,y_pred_test))\n",
    "\n"
   ]
  },
  {
   "cell_type": "code",
   "execution_count": 34,
   "metadata": {},
   "outputs": [
    {
     "name": "stdout",
     "output_type": "stream",
     "text": [
      "Accuracy Score:  0.8592668344870988\n",
      "Precision Score:  0.8660041673345087\n",
      "Recall Score:  0.8660041673345087\n",
      "F1 Score:  0.8592549117160898\n",
      "roc_auc Score:  0.8592668344870987\n",
      "confusion matrix: \n",
      " [[5520  836]\n",
      " [ 953 5403]]\n",
      "====================================================================================================\n",
      "Accuracy Score:  0.821\n",
      "Precision Score:  0.5366876310272537\n",
      "Recall Score:  0.5366876310272537\n",
      "F1 Score:  0.8272394623774375\n",
      "roc_auc Score:  0.7569380778432779\n",
      "confusion matrix: \n",
      " [[1386  221]\n",
      " [ 137  256]]\n"
     ]
    }
   ],
   "source": [
    "# Logistic \n",
    "AB = AdaBoostClassifier()\n",
    "AB.fit(X_train_sampled,y_train_sampled)\n",
    "y_pred_train = AB.predict(X_train_sampled)\n",
    "y_pred_test = AB.predict(X_test)\n",
    "\n",
    "print(\"Accuracy Score: \",accuracy_score(y_train_sampled,y_pred_train))\n",
    "print(\"Precision Score: \",precision_score(y_train_sampled,y_pred_train))\n",
    "print(\"Recall Score: \",precision_score(y_train_sampled,y_pred_train))\n",
    "print(\"F1 Score: \",f1_score(y_train_sampled,y_pred_train,average='weighted'))\n",
    "print(\"roc_auc Score: \",roc_auc_score(y_train_sampled,y_pred_train))\n",
    "print(\"confusion matrix: \\n\",confusion_matrix(y_train_sampled,y_pred_train))\n",
    "print(\"==\"*50)\n",
    "print(\"Accuracy Score: \",accuracy_score(y_test,y_pred_test))\n",
    "print(\"Precision Score: \",precision_score(y_test,y_pred_test))\n",
    "print(\"Recall Score: \",precision_score(y_test,y_pred_test))\n",
    "print(\"F1 Score: \",f1_score(y_test,y_pred_test,average='weighted'))\n",
    "print(\"roc_auc Score: \",roc_auc_score(y_test,y_pred_test))\n",
    "print(\"confusion matrix: \\n\",confusion_matrix(y_test,y_pred_test))\n",
    "\n"
   ]
  },
  {
   "cell_type": "code",
   "execution_count": 36,
   "metadata": {},
   "outputs": [
    {
     "name": "stdout",
     "output_type": "stream",
     "text": [
      "Accuracy Score:  0.9691629955947136\n",
      "Precision Score:  0.9800386349001932\n",
      "Recall Score:  0.9800386349001932\n",
      "F1 Score:  0.969159038056371\n",
      "roc_auc Score:  0.9691629955947137\n",
      "confusion matrix: \n",
      " [[6232  124]\n",
      " [ 268 6088]]\n",
      "====================================================================================================\n",
      "Accuracy Score:  0.855\n",
      "Precision Score:  0.6450704225352113\n",
      "Recall Score:  0.6450704225352113\n",
      "F1 Score:  0.8521640158914958\n",
      "roc_auc Score:  0.7521451157547056\n",
      "confusion matrix: \n",
      " [[1481  126]\n",
      " [ 164  229]]\n"
     ]
    }
   ],
   "source": [
    "# Logistic \n",
    "xgb = XGBClassifier()\n",
    "xgb.fit(X_train_sampled,y_train_sampled)\n",
    "y_pred_train = xgb.predict(X_train_sampled)\n",
    "y_pred_test = xgb.predict(X_test)\n",
    "\n",
    "print(\"Accuracy Score: \",accuracy_score(y_train_sampled,y_pred_train))\n",
    "print(\"Precision Score: \",precision_score(y_train_sampled,y_pred_train))\n",
    "print(\"Recall Score: \",precision_score(y_train_sampled,y_pred_train))\n",
    "print(\"F1 Score: \",f1_score(y_train_sampled,y_pred_train,average='weighted'))\n",
    "print(\"roc_auc Score: \",roc_auc_score(y_train_sampled,y_pred_train))\n",
    "print(\"confusion matrix: \\n\",confusion_matrix(y_train_sampled,y_pred_train))\n",
    "print(\"==\"*50)\n",
    "print(\"Accuracy Score: \",accuracy_score(y_test,y_pred_test))\n",
    "print(\"Precision Score: \",precision_score(y_test,y_pred_test))\n",
    "print(\"Recall Score: \",precision_score(y_test,y_pred_test))\n",
    "print(\"F1 Score: \",f1_score(y_test,y_pred_test,average='weighted'))\n",
    "print(\"roc_auc Score: \",roc_auc_score(y_test,y_pred_test))\n",
    "print(\"confusion matrix: \\n\",confusion_matrix(y_test,y_pred_test))\n",
    "\n"
   ]
  },
  {
   "cell_type": "code",
   "execution_count": null,
   "metadata": {},
   "outputs": [],
   "source": []
  }
 ],
 "metadata": {
  "kernelspec": {
   "display_name": "venv",
   "language": "python",
   "name": "python3"
  },
  "language_info": {
   "codemirror_mode": {
    "name": "ipython",
    "version": 3
   },
   "file_extension": ".py",
   "mimetype": "text/x-python",
   "name": "python",
   "nbconvert_exporter": "python",
   "pygments_lexer": "ipython3",
   "version": "3.12.4"
  }
 },
 "nbformat": 4,
 "nbformat_minor": 2
}
